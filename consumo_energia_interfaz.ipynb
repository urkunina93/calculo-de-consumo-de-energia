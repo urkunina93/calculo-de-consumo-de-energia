{
  "nbformat": 4,
  "nbformat_minor": 0,
  "metadata": {
    "colab": {
      "provenance": [],
      "authorship_tag": "ABX9TyNJVpblwaY43rrz90nD0DC1",
      "include_colab_link": true
    },
    "kernelspec": {
      "name": "python3",
      "display_name": "Python 3"
    },
    "language_info": {
      "name": "python"
    }
  },
  "cells": [
    {
      "cell_type": "markdown",
      "metadata": {
        "id": "view-in-github",
        "colab_type": "text"
      },
      "source": [
        "<a href=\"https://colab.research.google.com/github/urkunina93/calculo-de-consumo-de-energia/blob/main/consumo_energia_interfaz.ipynb\" target=\"_parent\"><img src=\"https://colab.research.google.com/assets/colab-badge.svg\" alt=\"Open In Colab\"/></a>"
      ]
    },
    {
      "cell_type": "code",
      "source": [
        "import tkinter as tk\n",
        "\n",
        "def calcular_costo_total():\n",
        "    try:\n",
        "        dispositivos = []\n",
        "        # Obtener valores de entrada\n",
        "        luces_potencia = float(entry_luces_potencia.get())\n",
        "        luces_horas = int(entry_luces_horas.get())\n",
        "        ventilacion_potencia = float(entry_ventilacion_potencia.get())\n",
        "        ventilacion_horas = int(entry_ventilacion_horas.get())\n",
        "        extractor_potencia = float(entry_extractor_potencia.get())\n",
        "        extractor_horas = int(entry_extractor_horas.get())\n",
        "        precio_kwh = float(entry_precio_kwh.get())\n",
        "\n",
        "        # Crear lista de dispositivos\n",
        "        dispositivos.append((\"luces\", luces_potencia))\n",
        "        dispositivos.append((\"ventilación\", ventilacion_potencia))\n",
        "        dispositivos.append((\"extractor\", extractor_potencia))\n",
        "\n",
        "        horas_uso = [luces_horas, ventilacion_horas, extractor_horas]\n",
        "\n",
        "        # Calcular costo total\n",
        "        costo_total = 0\n",
        "        resultados = \"\"\n",
        "\n",
        "        for i, (nombre, potencia_w) in enumerate(dispositivos):\n",
        "            horas_diarias = horas_uso[i]\n",
        "            consumo_diario_kwh = (potencia_w * horas_diarias) / 1000\n",
        "            consumo_mensual_kwh = consumo_diario_kwh * 30\n",
        "            costo_mensual = consumo_mensual_kwh * precio_kwh\n",
        "            costo_total += costo_mensual\n",
        "\n",
        "            resultados += f\"El consumo mensual de {nombre}: ${costo_mensual:,.2f} \\n\"\n",
        "\n",
        "        resultados += f\"\\nCosto mensual total: ${costo_total:,.2f} \"\n",
        "\n",
        "        # Mostrar resultados en una etiqueta\n",
        "        resultados_label.config(text=resultados)\n",
        "\n",
        "    except ValueError:\n",
        "        resultados_label.config(text=\"Por favor, ingresa valores válidos.\")\n",
        "\n",
        "# Crear la ventana principal\n",
        "root = tk.Tk()\n",
        "root.title(\"Calculadora de Costo Eléctrico\")\n",
        "\n",
        "# Crear y posicionar etiquetas y entradas\n",
        "tk.Label(root, text=\"Potencia Luces (W):\").grid(row=0, column=0)\n",
        "entry_luces_potencia = tk.Entry(root)\n",
        "entry_luces_potencia.grid(row=0, column=1)\n",
        "\n",
        "tk.Label(root, text=\"Horas Luces/Día:\").grid(row=1, column=0)\n",
        "entry_luces_horas = tk.Entry(root)\n",
        "entry_luces_horas.grid(row=1, column=1)\n",
        "\n",
        "tk.Label(root, text=\"Potencia Ventilación (W):\").grid(row=2, column=0)\n",
        "entry_ventilacion_potencia = tk.Entry(root)\n",
        "entry_ventilacion_potencia.grid(row=2, column=1)\n",
        "\n",
        "tk.Label(root, text=\"Horas Ventilación/Día:\").grid(row=3, column=0)\n",
        "entry_ventilacion_horas = tk.Entry(root)\n",
        "entry_ventilacion_horas.grid(row=3, column=1)\n",
        "\n",
        "tk.Label(root, text=\"Potencia Extractor (W):\").grid(row=4, column=0)\n",
        "entry_extractor_potencia = tk.Entry(root)\n",
        "entry_extractor_potencia.grid(row=4, column=1)\n",
        "\n",
        "tk.Label(root, text=\"Horas Extractor/Día:\").grid(row=5, column=0)\n",
        "entry_extractor_horas = tk.Entry(root)\n",
        "entry_extractor_horas.grid(row=5, column=1)\n",
        "\n",
        "tk.Label(root, text=\"Precio por kWh:\").grid(row=6, column=0)\n",
        "entry_precio_kwh = tk.Entry(root)\n",
        "entry_precio_kwh.grid(row=6, column=1)\n",
        "\n",
        "# Botón para calcular\n",
        "btn_calcular = tk.Button(root, text=\"Calcular Costo\", command=calcular_costo_total)\n",
        "btn_calcular.grid(row=7, columnspan=2)\n",
        "\n",
        "# Etiqueta para mostrar resultados\n",
        "resultados_label = tk.Label(root, text=\"\", justify=tk.LEFT)\n",
        "resultados_label.grid(row=8, columnspan=2)\n",
        "\n",
        "# Iniciar el bucle de eventos\n",
        "root.mainloop()\n"
      ],
      "metadata": {
        "id": "PGje7fEZ2vRt",
        "outputId": "4c346fb2-b24e-4aea-93eb-a8bb6889ca60",
        "colab": {
          "base_uri": "https://localhost:8080/",
          "height": 332
        }
      },
      "execution_count": 1,
      "outputs": [
        {
          "output_type": "error",
          "ename": "TclError",
          "evalue": "no display name and no $DISPLAY environment variable",
          "traceback": [
            "\u001b[0;31m---------------------------------------------------------------------------\u001b[0m",
            "\u001b[0;31mTclError\u001b[0m                                  Traceback (most recent call last)",
            "\u001b[0;32m<ipython-input-1-9236ee240ec0>\u001b[0m in \u001b[0;36m<cell line: 0>\u001b[0;34m()\u001b[0m\n\u001b[1;32m     42\u001b[0m \u001b[0;34m\u001b[0m\u001b[0m\n\u001b[1;32m     43\u001b[0m \u001b[0;31m# Crear la ventana principal\u001b[0m\u001b[0;34m\u001b[0m\u001b[0;34m\u001b[0m\u001b[0m\n\u001b[0;32m---> 44\u001b[0;31m \u001b[0mroot\u001b[0m \u001b[0;34m=\u001b[0m \u001b[0mtk\u001b[0m\u001b[0;34m.\u001b[0m\u001b[0mTk\u001b[0m\u001b[0;34m(\u001b[0m\u001b[0;34m)\u001b[0m\u001b[0;34m\u001b[0m\u001b[0;34m\u001b[0m\u001b[0m\n\u001b[0m\u001b[1;32m     45\u001b[0m \u001b[0mroot\u001b[0m\u001b[0;34m.\u001b[0m\u001b[0mtitle\u001b[0m\u001b[0;34m(\u001b[0m\u001b[0;34m\"Calculadora de Costo Eléctrico\"\u001b[0m\u001b[0;34m)\u001b[0m\u001b[0;34m\u001b[0m\u001b[0;34m\u001b[0m\u001b[0m\n\u001b[1;32m     46\u001b[0m \u001b[0;34m\u001b[0m\u001b[0m\n",
            "\u001b[0;32m/usr/lib/python3.11/tkinter/__init__.py\u001b[0m in \u001b[0;36m__init__\u001b[0;34m(self, screenName, baseName, className, useTk, sync, use)\u001b[0m\n\u001b[1;32m   2324\u001b[0m                 \u001b[0mbaseName\u001b[0m \u001b[0;34m=\u001b[0m \u001b[0mbaseName\u001b[0m \u001b[0;34m+\u001b[0m \u001b[0mext\u001b[0m\u001b[0;34m\u001b[0m\u001b[0;34m\u001b[0m\u001b[0m\n\u001b[1;32m   2325\u001b[0m         \u001b[0minteractive\u001b[0m \u001b[0;34m=\u001b[0m \u001b[0;32mFalse\u001b[0m\u001b[0;34m\u001b[0m\u001b[0;34m\u001b[0m\u001b[0m\n\u001b[0;32m-> 2326\u001b[0;31m         \u001b[0mself\u001b[0m\u001b[0;34m.\u001b[0m\u001b[0mtk\u001b[0m \u001b[0;34m=\u001b[0m \u001b[0m_tkinter\u001b[0m\u001b[0;34m.\u001b[0m\u001b[0mcreate\u001b[0m\u001b[0;34m(\u001b[0m\u001b[0mscreenName\u001b[0m\u001b[0;34m,\u001b[0m \u001b[0mbaseName\u001b[0m\u001b[0;34m,\u001b[0m \u001b[0mclassName\u001b[0m\u001b[0;34m,\u001b[0m \u001b[0minteractive\u001b[0m\u001b[0;34m,\u001b[0m \u001b[0mwantobjects\u001b[0m\u001b[0;34m,\u001b[0m \u001b[0museTk\u001b[0m\u001b[0;34m,\u001b[0m \u001b[0msync\u001b[0m\u001b[0;34m,\u001b[0m \u001b[0muse\u001b[0m\u001b[0;34m)\u001b[0m\u001b[0;34m\u001b[0m\u001b[0;34m\u001b[0m\u001b[0m\n\u001b[0m\u001b[1;32m   2327\u001b[0m         \u001b[0;32mif\u001b[0m \u001b[0museTk\u001b[0m\u001b[0;34m:\u001b[0m\u001b[0;34m\u001b[0m\u001b[0;34m\u001b[0m\u001b[0m\n\u001b[1;32m   2328\u001b[0m             \u001b[0mself\u001b[0m\u001b[0;34m.\u001b[0m\u001b[0m_loadtk\u001b[0m\u001b[0;34m(\u001b[0m\u001b[0;34m)\u001b[0m\u001b[0;34m\u001b[0m\u001b[0;34m\u001b[0m\u001b[0m\n",
            "\u001b[0;31mTclError\u001b[0m: no display name and no $DISPLAY environment variable"
          ]
        }
      ]
    }
  ]
}