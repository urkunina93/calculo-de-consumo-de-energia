{
  "nbformat": 4,
  "nbformat_minor": 0,
  "metadata": {
    "colab": {
      "provenance": [],
      "authorship_tag": "ABX9TyMd9QGFUaZAdRxopu0KvJ6G",
      "include_colab_link": true
    },
    "kernelspec": {
      "name": "python3",
      "display_name": "Python 3"
    },
    "language_info": {
      "name": "python"
    }
  },
  "cells": [
    {
      "cell_type": "markdown",
      "metadata": {
        "id": "view-in-github",
        "colab_type": "text"
      },
      "source": [
        "<a href=\"https://colab.research.google.com/github/urkunina93/calculo-de-consumo-de-energia/blob/main/Calculo_Consumo_Energia.ipynb\" target=\"_parent\"><img src=\"https://colab.research.google.com/assets/colab-badge.svg\" alt=\"Open In Colab\"/></a>"
      ]
    },
    {
      "cell_type": "code",
      "execution_count": null,
      "metadata": {
        "colab": {
          "base_uri": "https://localhost:8080/"
        },
        "id": "-XZtLYuDsKTr",
        "outputId": "a3f64804-3890-411f-9de1-893e17389d74"
      },
      "outputs": [
        {
          "output_type": "stream",
          "name": "stdout",
          "text": [
            "El consumo mensual de luces: $12,600.00 pesos\n",
            "\n",
            "El consumo mensual de Riego: $0.00 pesos\n",
            "\n",
            "\n",
            "\n",
            "Costo mensual total: $12,600.00 pesos\n"
          ]
        }
      ],
      "source": [
        "def calcular_costo_total(dispositivos, horas_uso, precio_kwh, dias=8):\n",
        "    costo_total = 0\n",
        "    for i, (nombre, potencia_w) in enumerate(dispositivos): #enumerate para iterar sobre la lista de dispositivos\n",
        "        horas_diarias = horas_uso[i]  # Obtener las horas de uso de cada dispositivo\n",
        "        consumo_diario_kwh = (potencia_w * horas_diarias) / 1000\n",
        "        consumo_mensual_kwh = consumo_diario_kwh * dias\n",
        "        costo_mensual = consumo_mensual_kwh * precio_kwh\n",
        "        costo_total = costo_total + costo_mensual\n",
        "\n",
        "        # Imprimir el consumo individual\n",
        "        print(f\"El consumo mensual de {nombre}: ${costo_mensual:,.2f} pesos\")\n",
        "        print()\n",
        "\n",
        "    return costo_total\n",
        "\n",
        "# Parámetros\n",
        "dispositivos = [ (\"luces\", 350), (\"Riego\", 300),]\n",
        "horas_uso = [5, 0, 0]  # Horas de uso para cada dispositivo (en el mismo orden)\n",
        "precio_kwh = 900  # Precio por kWh\n",
        "\n",
        "# Cálculo\n",
        "costo_total = calcular_costo_total(dispositivos, horas_uso, precio_kwh)\n",
        "\n",
        "# Imprimir el costo total\n",
        "print(\"\\n\")\n",
        "print(f\"Costo mensual total: ${costo_total:,.2f} pesos\")\n"
      ]
    }
  ]
}